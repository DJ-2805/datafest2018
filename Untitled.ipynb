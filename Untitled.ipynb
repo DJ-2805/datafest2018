{
 "cells": [
  {
   "cell_type": "code",
   "execution_count": 11,
   "metadata": {
    "collapsed": true
   },
   "outputs": [],
   "source": [
    "import os\n",
    "import numpy as np\n",
    "import scipy as sp\n",
    "import pandas as pd\n",
    "from matplotlib import pyplot as plt\n",
    "import sklearn as sk\n",
    "from sklearn import feature_extraction\n",
    "from sklearn import ensemble\n",
    "%matplotlib inline"
   ]
  },
  {
   "cell_type": "code",
   "execution_count": 2,
   "metadata": {
    "collapsed": false
   },
   "outputs": [
    {
     "data": {
      "text/plain": [
       "['.DS_Store',\n",
       " 'LICENSE',\n",
       " 'Untitled.ipynb',\n",
       " 'CleanBigData.csv',\n",
       " 'README.md',\n",
       " 'Datafest',\n",
       " '.gitignore',\n",
       " 'allStates_sup_dem.csv',\n",
       " '.ipynb_checkpoints',\n",
       " 'RoughDraft.csv',\n",
       " '.git',\n",
       " 'CompanyRating2.csv',\n",
       " 'big_data_allStates_sup_dem.csv']"
      ]
     },
     "execution_count": 2,
     "metadata": {},
     "output_type": "execute_result"
    }
   ],
   "source": [
    "os.listdir(\".\")"
   ]
  },
  {
   "cell_type": "code",
   "execution_count": 6,
   "metadata": {
    "collapsed": false
   },
   "outputs": [],
   "source": [
    "# titleTups = set(tuple(els) for els in bigDataDf[[\"normTitle\",\"normTitleCategory\"]].values)\n",
    "\n",
    "# # kwds = [\"miner\",\"mining\"]\n",
    "# kwds = [\"data\"]\n",
    "# # [tup for tup in titleTups if sum(kwd in \" \".join(tup).lower() for kwd in kwds)]\n",
    "\n",
    "# bigDataDf[(bigDataDf[\"stateProvince\"] == \"CA\") &\\\n",
    "#           (bigDataDf[\"normTitleCategory\"] == \"mining\")]\n",
    "\n",
    "# len(set(bigDataDf['companyId']))\n",
    "\n",
    "# bigDataDf.columns"
   ]
  },
  {
   "cell_type": "code",
   "execution_count": 355,
   "metadata": {
    "collapsed": false
   },
   "outputs": [
    {
     "name": "stdout",
     "output_type": "stream",
     "text": [
      "CPU times: user 1min 26s, sys: 1.34 s, total: 1min 27s\n",
      "Wall time: 1min 41s\n"
     ]
    }
   ],
   "source": [
    "%%time\n",
    "bigDataDf = pd.read_csv('CleanBigData.csv')\n",
    "# bigDataDf.head()\n",
    "# idxCols = [\"normTitleCategory\"]#,\"stateProvince\"]\n",
    "dataCols = ['stateProvince','normTitleCategory','experienceRequired',\n",
    "            'estimatedSalary','supervisingJob','licenseRequiredJob',\n",
    "            'educationRequirements']\n",
    "sumCols = [\"sum_of_clicks\",\"sum_localclick\",\"clickspday\",\"locclickspday\"]\n",
    "bigDataDf[sumCols] = bigDataDf[sumCols].astype(float)\n",
    "test = bigDataDf[dataCols+sumCols].groupby(dataCols).aggregate(lambda vals: np.mean(vals))"
   ]
  },
  {
   "cell_type": "code",
   "execution_count": 356,
   "metadata": {
    "collapsed": false
   },
   "outputs": [
    {
     "data": {
      "text/plain": [
       "Index(['Unnamed: 0', 'companyId', 'jobId', 'stateProvince', 'city',\n",
       "       'normTitle', 'normTitleCategory', 'experienceRequired',\n",
       "       'estimatedSalary', 'supervisingJob', 'licenseRequiredJob',\n",
       "       'educationRequirements', 'sum_of_clicks', 'sum_localclick', 'days',\n",
       "       'clickspday', 'locclickspday'],\n",
       "      dtype='object')"
      ]
     },
     "execution_count": 356,
     "metadata": {},
     "output_type": "execute_result"
    }
   ],
   "source": [
    "bigDataDf.columns"
   ]
  },
  {
   "cell_type": "code",
   "execution_count": 556,
   "metadata": {
    "collapsed": false
   },
   "outputs": [],
   "source": [
    "test[\"counts\"] = bigDataDf[dataCols+sumCols[:1]].groupby(dataCols).count()\n",
    "test[\"ratio\"] = test[\"counts\"]/test[\"clickspday\"]\n",
    "# test[\"ratio\"] = test[\"counts\"]/test[\"clickspday\"]"
   ]
  },
  {
   "cell_type": "code",
   "execution_count": 358,
   "metadata": {
    "collapsed": false
   },
   "outputs": [
    {
     "name": "stdout",
     "output_type": "stream",
     "text": [
      "CPU times: user 5 µs, sys: 2 µs, total: 7 µs\n",
      "Wall time: 12.9 µs\n"
     ]
    }
   ],
   "source": [
    "%time \n",
    "featDf = pd.DataFrame([np.array(row) \n",
    "                                for row in test.index.values], \n",
    "                               columns=dataCols)"
   ]
  },
  {
   "cell_type": "code",
   "execution_count": 359,
   "metadata": {
    "collapsed": true
   },
   "outputs": [],
   "source": [
    "catCols = [\n",
    "            'stateProvince', 'normTitleCategory', \n",
    "           'supervisingJob', 'licenseRequiredJob',\n",
    "           'educationRequirements']\n",
    "numCols = ['experienceRequired', 'estimatedSalary']"
   ]
  },
  {
   "cell_type": "code",
   "execution_count": 360,
   "metadata": {
    "collapsed": false
   },
   "outputs": [],
   "source": [
    "catFeatDict = [dict(zip(catCols,row)) for row in featDf[catCols].values]"
   ]
  },
  {
   "cell_type": "code",
   "execution_count": 361,
   "metadata": {
    "collapsed": false
   },
   "outputs": [],
   "source": [
    "dVec = sk.feature_extraction.DictVectorizer()"
   ]
  },
  {
   "cell_type": "code",
   "execution_count": 362,
   "metadata": {
    "collapsed": false
   },
   "outputs": [
    {
     "name": "stdout",
     "output_type": "stream",
     "text": [
      "CPU times: user 2.44 s, sys: 206 ms, total: 2.64 s\n",
      "Wall time: 3.73 s\n"
     ]
    }
   ],
   "source": [
    "%time encCatFeat = dVec.fit_transform(catFeatDict).toarray()"
   ]
  },
  {
   "cell_type": "code",
   "execution_count": 363,
   "metadata": {
    "collapsed": false
   },
   "outputs": [],
   "source": [
    "encFeat = pd.concat(\n",
    "    [featDf[numCols],\n",
    "     pd.DataFrame(encCatFeat,\n",
    "                  columns = dVec.get_feature_names())],\n",
    "    axis = 1\n",
    ")"
   ]
  },
  {
   "cell_type": "code",
   "execution_count": 364,
   "metadata": {
    "collapsed": true
   },
   "outputs": [],
   "source": [
    "from sklearn import preprocessing\n",
    "from sklearn import linear_model\n",
    "from sklearn import neural_network"
   ]
  },
  {
   "cell_type": "code",
   "execution_count": 401,
   "metadata": {
    "collapsed": false
   },
   "outputs": [],
   "source": [
    "# NORMALIZE\n",
    "# encFeat = pd.DataFrame(sk.preprocessing.scale(encFeat),\n",
    "#                        columns = encFeat.columns)\n",
    "encFeat = (encFeat - encFeat.mean(0))/encFeat.std(0)"
   ]
  },
  {
   "cell_type": "code",
   "execution_count": 573,
   "metadata": {
    "collapsed": true
   },
   "outputs": [],
   "source": [
    "# rfReg = sk.ensemble.GradientBoostingRegressor()\n",
    "# rfReg = sk.ensemble.RandomForestRegressor()\n",
    "# rfReg = sk.linear_model.LinearRegression()\n",
    "# rfReg = sk.neural_network.MLPRegressor()\n",
    "# rfReg = sk.ensemble.AdaBoostRegressor()\n",
    "\n",
    "# rfReg = sk.ensemble.RandomForestClassifier()\n",
    "# rfReg = sk.ensemble.AdaBoostClassifier()\n",
    "# rfReg = sk.neural_network.MLPClassifier()\n",
    "rfReg = sk.ensemble.GradientBoostingClassifier()"
   ]
  },
  {
   "cell_type": "code",
   "execution_count": 603,
   "metadata": {
    "collapsed": false
   },
   "outputs": [
    {
     "data": {
      "text/plain": [
       "10000.0"
      ]
     },
     "execution_count": 603,
     "metadata": {},
     "output_type": "execute_result"
    }
   ],
   "source": [
    "k = 1e4\n",
    "# sidx = np.random.choice(range(encFeat.shape[0]),k)\n",
    "sidx = np.random.rand(encFeat.shape[0]) < k / encFeat.shape[0]\n",
    "tidx = (1 - sidx).astype(bool)\n",
    "k"
   ]
  },
  {
   "cell_type": "code",
   "execution_count": 604,
   "metadata": {
    "collapsed": false
   },
   "outputs": [
    {
     "data": {
      "text/plain": [
       "Index(['sum_of_clicks', 'sum_localclick', 'clickspday', 'locclickspday',\n",
       "       'counts', 'ratio'],\n",
       "      dtype='object')"
      ]
     },
     "execution_count": 604,
     "metadata": {},
     "output_type": "execute_result"
    }
   ],
   "source": [
    "test.columns"
   ]
  },
  {
   "cell_type": "code",
   "execution_count": 605,
   "metadata": {
    "collapsed": false
   },
   "outputs": [],
   "source": [
    "# list(encFeat.columns)"
   ]
  },
  {
   "cell_type": "code",
   "execution_count": 606,
   "metadata": {
    "collapsed": true
   },
   "outputs": [],
   "source": [
    "col = \"clickspday\"\n",
    "yM = (test[col] - test[col].mean())/np.std(test[col]) > 0\n",
    "xM = encFeat.values"
   ]
  },
  {
   "cell_type": "code",
   "execution_count": 607,
   "metadata": {
    "collapsed": false
   },
   "outputs": [
    {
     "name": "stdout",
     "output_type": "stream",
     "text": [
      "CPU times: user 5.78 s, sys: 118 ms, total: 5.89 s\n",
      "Wall time: 6.88 s\n"
     ]
    },
    {
     "data": {
      "text/plain": [
       "GradientBoostingClassifier(criterion='friedman_mse', init=None,\n",
       "              learning_rate=0.1, loss='deviance', max_depth=3,\n",
       "              max_features=None, max_leaf_nodes=None,\n",
       "              min_impurity_decrease=0.0, min_impurity_split=None,\n",
       "              min_samples_leaf=1, min_samples_split=2,\n",
       "              min_weight_fraction_leaf=0.0, n_estimators=100,\n",
       "              presort='auto', random_state=None, subsample=1.0, verbose=0,\n",
       "              warm_start=False)"
      ]
     },
     "execution_count": 607,
     "metadata": {},
     "output_type": "execute_result"
    }
   ],
   "source": [
    "%time rfReg.fit(xM[sidx], yM[sidx])"
   ]
  },
  {
   "cell_type": "code",
   "execution_count": 608,
   "metadata": {
    "collapsed": false
   },
   "outputs": [],
   "source": [
    "def featImp(encFeatImp):\n",
    "    featImpTups = []\n",
    "    for col in catCols+numCols:\n",
    "        featImpTups.append((col,\n",
    "                            sum(abs(featImp)\n",
    "                               for encCol,featImp in \n",
    "                               zip(encFeat.columns, encFeatImp)\n",
    "                               if col in encCol\n",
    "                                )\n",
    "                           ))\n",
    "    return sorted(featImpTups, key = lambda tup: -tup[1])"
   ]
  },
  {
   "cell_type": "code",
   "execution_count": 609,
   "metadata": {
    "collapsed": false
   },
   "outputs": [],
   "source": [
    "try: \n",
    "    featImp(rfReg.feature_importances_)\n",
    "except:\n",
    "    pass"
   ]
  },
  {
   "cell_type": "code",
   "execution_count": 610,
   "metadata": {
    "collapsed": false
   },
   "outputs": [
    {
     "data": {
      "text/plain": [
       "[('normTitleCategory', 0.42181277560321639),\n",
       " ('estimatedSalary', 0.21558675719806306),\n",
       " ('stateProvince', 0.19488576909445809),\n",
       " ('experienceRequired', 0.093267525483731142),\n",
       " ('educationRequirements', 0.044877417766953601),\n",
       " ('supervisingJob', 0.026482178530162909),\n",
       " ('licenseRequiredJob', 0.0030875763234148122)]"
      ]
     },
     "execution_count": 610,
     "metadata": {},
     "output_type": "execute_result"
    }
   ],
   "source": [
    "featImp(rfReg.feature_importances_)"
   ]
  },
  {
   "cell_type": "code",
   "execution_count": 611,
   "metadata": {
    "collapsed": false
   },
   "outputs": [
    {
     "data": {
      "text/plain": [
       "[('estimatedSalary', 0.21558675719806306),\n",
       " ('experienceRequired', 0.093267525483731142),\n",
       " ('normTitleCategory=admin', 0.036855917491127363),\n",
       " ('normTitleCategory=mednurse', 0.033758931593120135),\n",
       " ('normTitleCategory=warehouse', 0.029151918656541546),\n",
       " ('normTitleCategory=food', 0.028622255878730917),\n",
       " ('educationRequirements=None', 0.025032981897114288),\n",
       " ('normTitleCategory=customer', 0.023566818654624181),\n",
       " ('normTitleCategory=driver', 0.021022237345228945),\n",
       " ('stateProvince=TX', 0.019271687570398363),\n",
       " ('normTitleCategory=hr', 0.016812906656554445),\n",
       " ('stateProvince=FL', 0.016767724420395046),\n",
       " ('stateProvince=PR', 0.016720575357248128),\n",
       " ('normTitleCategory=service', 0.016673167448941401),\n",
       " ('normTitleCategory=transport', 0.016555298212000236),\n",
       " ('stateProvince=GA', 0.016221983468250493),\n",
       " ('normTitleCategory=install', 0.015416325945917631),\n",
       " ('normTitleCategory=retail', 0.015201054983277184),\n",
       " ('supervisingJob=1', 0.014970972807873512),\n",
       " ('normTitleCategory=medinfo', 0.014872443358547731),\n",
       " ('stateProvince=WI', 0.014747755425591163),\n",
       " ('normTitleCategory=media', 0.014458442941524329),\n",
       " ('normTitleCategory=therapy', 0.014435437475064936),\n",
       " ('educationRequirements=High School', 0.013778812554032051),\n",
       " ('normTitleCategory=science', 0.011921405765428333),\n",
       " ('supervisingJob=0', 0.011511205722289397),\n",
       " ('normTitleCategory=management', 0.011425470928896011),\n",
       " ('normTitleCategory=techsoftware', 0.0098613898354970378),\n",
       " ('normTitleCategory=marketing', 0.0095795567049248073),\n",
       " ('normTitleCategory=protective', 0.0094982137805558302),\n",
       " ('normTitleCategory=sales', 0.0077546771149632054),\n",
       " ('normTitleCategory=accounting', 0.0076565255507699617),\n",
       " ('normTitleCategory=manufacturing', 0.0075473848895761773),\n",
       " ('normTitleCategory=legal', 0.0070979961193908744),\n",
       " ('stateProvince=CT', 0.0068816853967725491),\n",
       " ('stateProvince=NY', 0.0066674834838738196),\n",
       " ('stateProvince=VA', 0.0065525434231595917),\n",
       " ('educationRequirements=Higher Education', 0.0060656233158072649),\n",
       " ('stateProvince=DC', 0.0060526867226675333),\n",
       " ('stateProvince=SC', 0.0057959408671634715),\n",
       " ('stateProvince=SD', 0.0057239551288944049),\n",
       " ('normTitleCategory=project', 0.0055742731059576448),\n",
       " ('normTitleCategory=meddr', 0.0054691450261391576),\n",
       " ('stateProvince=MS', 0.0053190585346225335),\n",
       " ('normTitleCategory=uncategorized', 0.0051741157495433735),\n",
       " ('stateProvince=LA', 0.0050800980534951015),\n",
       " ('stateProvince=MD', 0.0047534693238594876),\n",
       " ('stateProvince=TN', 0.0042429847122340027),\n",
       " ('stateProvince=KY', 0.0039604175238263598),\n",
       " ('stateProvince=MI', 0.003814901639130207),\n",
       " ('stateProvince=NV', 0.003347631665738743),\n",
       " ('normTitleCategory=arch', 0.0032632380301574381),\n",
       " ('stateProvince=WV', 0.0032610915821003955),\n",
       " ('stateProvince=MO', 0.0032474625475457952),\n",
       " ('normTitleCategory=realestate', 0.0031433006456786181),\n",
       " ('normTitleCategory=aviation', 0.0030511277842170952),\n",
       " ('stateProvince=HI', 0.0028760708559089744),\n",
       " ('stateProvince=MA', 0.0026684600329980098),\n",
       " ('normTitleCategory=sports', 0.0026590577560098596),\n",
       " ('stateProvince=NC', 0.0025356255920175909),\n",
       " ('stateProvince=CA', 0.0025086737019890371),\n",
       " ('normTitleCategory=socialscience', 0.0024908049339881916),\n",
       " ('normTitleCategory=techinfo', 0.0024624455289274944),\n",
       " ('stateProvince=PA', 0.0024270899560428164),\n",
       " ('stateProvince=IN', 0.0023112948989334951),\n",
       " ('stateProvince=NJ', 0.0022543083528722501),\n",
       " ('stateProvince=OH', 0.002203010663114856),\n",
       " ('stateProvince=NM', 0.002194639686934635),\n",
       " ('normTitleCategory=pharmacy', 0.0021276721211760667),\n",
       " ('normTitleCategory=care', 0.0020747388167824069),\n",
       " ('licenseRequiredJob=1', 0.0020654586552723161),\n",
       " ('stateProvince=IL', 0.0020282116809705901),\n",
       " ('stateProvince=AK', 0.0020069750250058401),\n",
       " ('normTitleCategory=finance', 0.0017350811540373288),\n",
       " ('stateProvince=OK', 0.0015743743224347149),\n",
       " ('normTitleCategory=techhelp', 0.0014507663459609565),\n",
       " ('normTitleCategory=veterinary', 0.0013912312734375052),\n",
       " ('stateProvince=DE', 0.0013566742187571276),\n",
       " ('stateProvince=NE', 0.0013285053677851589),\n",
       " ('stateProvince=AR', 0.0012965276415880811),\n",
       " ('stateProvince=NH', 0.001105004221966005),\n",
       " ('stateProvince=MN', 0.0010728047599697101),\n",
       " ('licenseRequiredJob=0', 0.0010221176681424961),\n",
       " ('stateProvince=AZ', 0.0010017970252792214),\n",
       " ('stateProvince=AL', 0.00095065989143448631),\n",
       " ('stateProvince=IA', 0.00075380984648467427),\n",
       " ('stateProvince=OR', 1.1450500362937805e-07),\n",
       " ('normTitleCategory=agriculture', 0.0),\n",
       " ('normTitleCategory=arts', 0.0),\n",
       " ('normTitleCategory=childcare', 0.0),\n",
       " ('normTitleCategory=construction', 0.0),\n",
       " ('normTitleCategory=education', 0.0),\n",
       " ('normTitleCategory=engchem', 0.0),\n",
       " ('normTitleCategory=engcivil', 0.0),\n",
       " ('normTitleCategory=engelectric', 0.0),\n",
       " ('normTitleCategory=engid', 0.0),\n",
       " ('normTitleCategory=engmech', 0.0),\n",
       " ('normTitleCategory=hospitality', 0.0),\n",
       " ('normTitleCategory=insurance', 0.0),\n",
       " ('normTitleCategory=math', 0.0),\n",
       " ('normTitleCategory=meddental', 0.0),\n",
       " ('normTitleCategory=medtech', 0.0),\n",
       " ('normTitleCategory=military', 0.0),\n",
       " ('normTitleCategory=mining', 0.0),\n",
       " ('normTitleCategory=personal', 0.0),\n",
       " ('normTitleCategory=sanitation', 0.0),\n",
       " ('normTitleCategory=tech', 0.0),\n",
       " ('stateProvince=CO', 0.0),\n",
       " ('stateProvince=GU', 0.0),\n",
       " ('stateProvince=ID', 0.0),\n",
       " ('stateProvince=KS', 0.0),\n",
       " ('stateProvince=ME', 0.0),\n",
       " ('stateProvince=MP', 0.0),\n",
       " ('stateProvince=MT', 0.0),\n",
       " ('stateProvince=ND', 0.0),\n",
       " ('stateProvince=RI', 0.0),\n",
       " ('stateProvince=UT', 0.0),\n",
       " ('stateProvince=VI', 0.0),\n",
       " ('stateProvince=VT', 0.0),\n",
       " ('stateProvince=WA', 0.0),\n",
       " ('stateProvince=WY', 0.0)]"
      ]
     },
     "execution_count": 611,
     "metadata": {},
     "output_type": "execute_result"
    }
   ],
   "source": [
    "sorted(zip(encFeat.columns,rfReg.feature_importances_), key = lambda tup: -abs(tup[1]))"
   ]
  },
  {
   "cell_type": "code",
   "execution_count": 613,
   "metadata": {
    "collapsed": false,
    "scrolled": true
   },
   "outputs": [
    {
     "name": "stdout",
     "output_type": "stream",
     "text": [
      "TRAIN\n",
      "Clf acc: 0.761450571287\n",
      "Rand acc: 0.5\n",
      "TEST\n",
      "Clf acc: 0.751075096176\n",
      "Rand acc: 0.5\n"
     ]
    }
   ],
   "source": [
    "idx = sidx\n",
    "ratHat = rfReg.predict(encFeat.values[idx])\n",
    "ratExp = yM[idx]\n",
    "print(\"TRAIN\")\n",
    "print(\"Clf acc:\",np.mean(ratHat == ratExp))\n",
    "print(\"Rand acc:\",0.5)\n",
    "idx = tidx\n",
    "ratHat = rfReg.predict(encFeat.values[idx])\n",
    "ratExp = yM[idx]\n",
    "print(\"TEST\")\n",
    "print(\"Clf acc:\",np.mean(ratHat == ratExp))\n",
    "print(\"Rand acc:\",0.5)"
   ]
  },
  {
   "cell_type": "code",
   "execution_count": null,
   "metadata": {
    "collapsed": true
   },
   "outputs": [],
   "source": []
  },
  {
   "cell_type": "code",
   "execution_count": null,
   "metadata": {
    "collapsed": true
   },
   "outputs": [],
   "source": []
  },
  {
   "cell_type": "code",
   "execution_count": null,
   "metadata": {
    "collapsed": true
   },
   "outputs": [],
   "source": []
  },
  {
   "cell_type": "code",
   "execution_count": 513,
   "metadata": {
    "collapsed": false
   },
   "outputs": [
    {
     "name": "stdout",
     "output_type": "stream",
     "text": [
      "CPU times: user 487 ms, sys: 38.2 ms, total: 525 ms\n",
      "Wall time: 611 ms\n",
      "TRAIN\n",
      "Clf err: 1.29211725692\n",
      "Rand err: 0.171892744191\n",
      "CPU times: user 379 ms, sys: 34.9 ms, total: 414 ms\n",
      "Wall time: 511 ms\n",
      "TEST\n",
      "Clf err: 1.29215901334\n",
      "Rand err: 0.170598380512\n"
     ]
    }
   ],
   "source": [
    "idx = sidx\n",
    "%time ratHat = rfReg.predict(encFeat.values[idx])\n",
    "ratExp = test.ratio.values[idx]\n",
    "ratRand = np.mean(test.ratio.values[idx])\n",
    "print(\"TRAIN\")\n",
    "print(\"Clf err:\",np.mean(np.abs(ratExp - ratHat)/np.abs(ratExp)))\n",
    "print(\"Rand err:\",np.mean(np.abs(ratExp - ratRand)/np.abs(ratExp)))\n",
    "idx = tidx\n",
    "%time ratHat = rfReg.predict(encFeat.values[idx])\n",
    "ratExp = test.ratio.values[idx]\n",
    "ratRand = np.mean(test.ratio.values[idx])\n",
    "print(\"TEST\")\n",
    "print(\"Clf err:\",np.mean(np.abs(ratExp - ratHat)/np.abs(ratExp)))\n",
    "print(\"Rand err:\",np.mean(np.abs(ratExp - ratRand)/np.abs(ratExp)))"
   ]
  },
  {
   "cell_type": "code",
   "execution_count": 274,
   "metadata": {
    "collapsed": false
   },
   "outputs": [],
   "source": [
    "encFeat = encFeat.astype(float)"
   ]
  },
  {
   "cell_type": "code",
   "execution_count": 380,
   "metadata": {
    "collapsed": false
   },
   "outputs": [
    {
     "data": {
      "text/plain": [
       "Index(['sum_of_clicks', 'sum_localclick', 'clickspday', 'locclickspday',\n",
       "       'counts', 'ratio'],\n",
       "      dtype='object')"
      ]
     },
     "execution_count": 380,
     "metadata": {},
     "output_type": "execute_result"
    }
   ],
   "source": [
    "test.columns"
   ]
  },
  {
   "cell_type": "code",
   "execution_count": 618,
   "metadata": {
    "collapsed": false
   },
   "outputs": [
    {
     "data": {
      "text/plain": [
       "[('normTitleCategory', 0.44735497723336548),\n",
       " ('stateProvince', 0.34419081683527225),\n",
       " ('educationRequirements', 0.080423818825550428),\n",
       " ('estimatedSalary', 0.065487657734313559),\n",
       " ('supervisingJob', 0.023519923608064472),\n",
       " ('experienceRequired', 0.022733622181325755),\n",
       " ('licenseRequiredJob', 0.016289183582107972)]"
      ]
     },
     "execution_count": 618,
     "metadata": {},
     "output_type": "execute_result"
    }
   ],
   "source": [
    "col = \"locclickspday\"\n",
    "yM = (test[col] - test[col].mean())/np.std(test[col])\n",
    "xM = encFeat\n",
    "# covariance\n",
    "corr = xM.T @ yM.values / xM.shape[0]\n",
    "corr /= sum(abs(corr))\n",
    "featImp(corr)"
   ]
  },
  {
   "cell_type": "code",
   "execution_count": 617,
   "metadata": {
    "collapsed": false
   },
   "outputs": [
    {
     "data": {
      "text/plain": [
       "-0.13041443239444805"
      ]
     },
     "execution_count": 617,
     "metadata": {},
     "output_type": "execute_result"
    }
   ],
   "source": [
    "sum(corr)"
   ]
  },
  {
   "cell_type": "code",
   "execution_count": 619,
   "metadata": {
    "collapsed": false
   },
   "outputs": [
    {
     "data": {
      "text/plain": [
       "[('estimatedSalary', -0.065487657734313559),\n",
       " ('normTitleCategory=admin', 0.062491016379744094),\n",
       " ('stateProvince=TX', 0.045290367371090705),\n",
       " ('educationRequirements=High School', 0.042847927593787555),\n",
       " ('normTitleCategory=customer', 0.035046223323325507),\n",
       " ('normTitleCategory=techsoftware', -0.031605890147002498),\n",
       " ('normTitleCategory=mednurse', -0.027874169491501902),\n",
       " ('normTitleCategory=warehouse', 0.024045734493583892),\n",
       " ('stateProvince=NV', 0.024009686874362793),\n",
       " ('stateProvince=NJ', -0.022891792058608841),\n",
       " ('educationRequirements=Higher Education', -0.0227932901538473),\n",
       " ('experienceRequired', -0.022733622181325755),\n",
       " ('stateProvince=CA', -0.020103840737146321),\n",
       " ('stateProvince=MA', -0.020092821636410685),\n",
       " ('stateProvince=FL', 0.019487134667631176),\n",
       " ('normTitleCategory=medinfo', 0.017725671884031159),\n",
       " ('normTitleCategory=hr', 0.015218840083156729),\n",
       " ('educationRequirements=None', -0.014782601077915574),\n",
       " ('normTitleCategory=protective', 0.014127227802831153),\n",
       " ('normTitleCategory=engid', -0.013610451117045423),\n",
       " ('stateProvince=MD', -0.012397207412122788),\n",
       " ('normTitleCategory=service', 0.012156520936824051),\n",
       " ('stateProvince=VA', -0.011775471647623615),\n",
       " ('supervisingJob=1', -0.011759961804032309),\n",
       " ('supervisingJob=0', 0.011759961804032163),\n",
       " ('normTitleCategory=therapy', -0.01103132514626616),\n",
       " ('normTitleCategory=install', -0.010639613847119969),\n",
       " ('normTitleCategory=techinfo', -0.010129679429401538),\n",
       " ('normTitleCategory=sanitation', 0.0099845322262435959),\n",
       " ('stateProvince=MO', -0.0098603470405405624),\n",
       " ('stateProvince=CT', -0.0098270447547236916),\n",
       " ('stateProvince=NE', 0.0098135700624222312),\n",
       " ('normTitleCategory=management', -0.0089937684216087263),\n",
       " ('normTitleCategory=realestate', 0.0089368645376804064),\n",
       " ('normTitleCategory=techhelp', -0.0088899687569724169),\n",
       " ('normTitleCategory=transport', 0.0088830946435788562),\n",
       " ('stateProvince=NC', 0.0088760768687038364),\n",
       " ('normTitleCategory=engelectric', -0.0087756287403533279),\n",
       " ('normTitleCategory=driver', -0.0086195829310309786),\n",
       " ('stateProvince=MI', -0.0084634651208154651),\n",
       " ('licenseRequiredJob=1', -0.0081445917910539893),\n",
       " ('licenseRequiredJob=0', 0.0081445917910539806),\n",
       " ('stateProvince=MN', -0.0073100344224829601),\n",
       " ('stateProvince=LA', 0.00728978673357301),\n",
       " ('stateProvince=TN', 0.0072858960101729198),\n",
       " ('normTitleCategory=engmech', -0.0071634700481282773),\n",
       " ('stateProvince=NH', -0.006649169477244506),\n",
       " ('stateProvince=KY', 0.0061311925586138407),\n",
       " ('normTitleCategory=meddr', -0.0059323151721745052),\n",
       " ('normTitleCategory=media', 0.0057071726720802404),\n",
       " ('normTitleCategory=project', -0.005438199205157224),\n",
       " ('normTitleCategory=arch', -0.0054214894964134501),\n",
       " ('normTitleCategory=legal', 0.0053460731079898313),\n",
       " ('stateProvince=AL', 0.005232628479837736),\n",
       " ('stateProvince=RI', -0.0051693768350633213),\n",
       " ('stateProvince=OK', 0.0050559805162987328),\n",
       " ('normTitleCategory=engcivil', -0.005022527449241262),\n",
       " ('normTitleCategory=food', -0.0049299545194020009),\n",
       " ('normTitleCategory=science', -0.0048580147531601756),\n",
       " ('stateProvince=GA', 0.0048244909117121692),\n",
       " ('stateProvince=WA', -0.0046559755187391078),\n",
       " ('stateProvince=VT', -0.0046361818253518022),\n",
       " ('normTitleCategory=hospitality', 0.0046038266126924438),\n",
       " ('stateProvince=AZ', 0.0045806930407203111),\n",
       " ('stateProvince=ME', -0.0044902145328350462),\n",
       " ('stateProvince=NM', 0.00434441355299165),\n",
       " ('normTitleCategory=marketing', 0.0041866858710402658),\n",
       " ('stateProvince=DE', -0.0038789511422503446),\n",
       " ('stateProvince=IA', -0.0036274430491871667),\n",
       " ('stateProvince=PR', -0.0035537357098066632),\n",
       " ('stateProvince=NY', -0.003360859278977123),\n",
       " ('normTitleCategory=accounting', 0.0033402162008805197),\n",
       " ('normTitleCategory=math', -0.0032425310885305092),\n",
       " ('normTitleCategory=sales', -0.0027752851924054767),\n",
       " ('normTitleCategory=aviation', -0.0027710619859632819),\n",
       " ('normTitleCategory=childcare', 0.0027224688438717811),\n",
       " ('stateProvince=WI', -0.0025914719039741192),\n",
       " ('stateProvince=HI', -0.002575307366744196),\n",
       " ('normTitleCategory=medtech', -0.0025155502988232215),\n",
       " ('stateProvince=SD', 0.0024684789976604283),\n",
       " ('stateProvince=WV', -0.002401971532055644),\n",
       " ('normTitleCategory=sports', -0.0023658703160610054),\n",
       " ('normTitleCategory=engchem', -0.0022326831138873827),\n",
       " ('normTitleCategory=veterinary', 0.0019941625134292543),\n",
       " ('stateProvince=MT', 0.0017992915092690607),\n",
       " ('normTitleCategory=meddental', -0.0017338452011091507),\n",
       " ('normTitleCategory=manufacturing', -0.00172624542707668),\n",
       " ('stateProvince=DC', -0.0017082473097894406),\n",
       " ('stateProvince=OR', 0.0015628113023857294),\n",
       " ('stateProvince=IL', 0.001552119171419006),\n",
       " ('stateProvince=UT', -0.0015177388638187943),\n",
       " ('normTitleCategory=insurance', 0.0014831489664898871),\n",
       " ('normTitleCategory=pharmacy', -0.0014690589321515039),\n",
       " ('normTitleCategory=personal', -0.0014652278459508484),\n",
       " ('stateProvince=OH', -0.0014447581724658601),\n",
       " ('normTitleCategory=retail', 0.0013842281196773264),\n",
       " ('normTitleCategory=care', 0.0013132394514972425),\n",
       " ('stateProvince=IN', 0.0012837497846745548),\n",
       " ('stateProvince=PA', 0.0012740558887595168),\n",
       " ('normTitleCategory=construction', -0.0012598001365407628),\n",
       " ('stateProvince=CO', 0.0011750263106419265),\n",
       " ('stateProvince=VI', -0.0011508943124345064),\n",
       " ('normTitleCategory=finance', -0.0010575632874642929),\n",
       " ('stateProvince=ND', 0.00098792963498352693),\n",
       " ('stateProvince=WY', 0.0009359983622241379),\n",
       " ('stateProvince=MP', -0.00081181907178538848),\n",
       " ('stateProvince=AR', -0.00073914304219189922),\n",
       " ('stateProvince=GU', -0.00069683045097415522),\n",
       " ('normTitleCategory=military', -0.00064957857307535122),\n",
       " ('normTitleCategory=uncategorized', -0.00056660601383891687),\n",
       " ('normTitleCategory=tech', -0.00047009047515261977),\n",
       " ('normTitleCategory=socialscience', -0.00040602595917762656),\n",
       " ('normTitleCategory=mining', 0.00039714894117580938),\n",
       " ('normTitleCategory=education', -0.00024254198488034488),\n",
       " ('normTitleCategory=agriculture', 0.00022269704198631137),\n",
       " ('stateProvince=ID', -0.00017412887243120642),\n",
       " ('stateProvince=MS', -0.00016652121293480194),\n",
       " ('normTitleCategory=arts', 0.00015256807548657398),\n",
       " ('stateProvince=SC', 0.0001473335710988533),\n",
       " ('stateProvince=KS', 3.9688352444002955e-05),\n",
       " ('stateProvince=AK', -1.9651990050405139e-05)]"
      ]
     },
     "execution_count": 619,
     "metadata": {},
     "output_type": "execute_result"
    }
   ],
   "source": [
    "sorted(zip(encFeat.columns,corr), key = lambda tup: -abs(tup[1]))"
   ]
  },
  {
   "cell_type": "code",
   "execution_count": 148,
   "metadata": {
    "collapsed": false
   },
   "outputs": [
    {
     "data": {
      "text/html": [
       "<div>\n",
       "<table border=\"1\" class=\"dataframe\">\n",
       "  <thead>\n",
       "    <tr style=\"text-align: right;\">\n",
       "      <th></th>\n",
       "      <th></th>\n",
       "      <th></th>\n",
       "      <th></th>\n",
       "      <th></th>\n",
       "      <th></th>\n",
       "      <th></th>\n",
       "      <th>sum_of_clicks</th>\n",
       "      <th>sum_localclick</th>\n",
       "      <th>clickspday</th>\n",
       "      <th>locclickspday</th>\n",
       "      <th>counts</th>\n",
       "      <th>ratio</th>\n",
       "    </tr>\n",
       "    <tr>\n",
       "      <th>stateProvince</th>\n",
       "      <th>normTitleCategory</th>\n",
       "      <th>experienceRequired</th>\n",
       "      <th>estimatedSalary</th>\n",
       "      <th>supervisingJob</th>\n",
       "      <th>licenseRequiredJob</th>\n",
       "      <th>educationRequirements</th>\n",
       "      <th></th>\n",
       "      <th></th>\n",
       "      <th></th>\n",
       "      <th></th>\n",
       "      <th></th>\n",
       "      <th></th>\n",
       "    </tr>\n",
       "  </thead>\n",
       "  <tbody>\n",
       "    <tr>\n",
       "      <th rowspan=\"5\" valign=\"top\">AK</th>\n",
       "      <th rowspan=\"5\" valign=\"top\">accounting</th>\n",
       "      <th>1.7</th>\n",
       "      <th>29900</th>\n",
       "      <th>0</th>\n",
       "      <th>1</th>\n",
       "      <th>High School</th>\n",
       "      <td>634.0</td>\n",
       "      <td>227.0</td>\n",
       "      <td>57.63636</td>\n",
       "      <td>20.636360</td>\n",
       "      <td>1</td>\n",
       "      <td>-4.054154</td>\n",
       "    </tr>\n",
       "    <tr>\n",
       "      <th rowspan=\"4\" valign=\"top\">3.0</th>\n",
       "      <th>41000</th>\n",
       "      <th>1</th>\n",
       "      <th>0</th>\n",
       "      <th>Higher Education</th>\n",
       "      <td>603.0</td>\n",
       "      <td>119.0</td>\n",
       "      <td>23.19231</td>\n",
       "      <td>4.576923</td>\n",
       "      <td>1</td>\n",
       "      <td>-3.143821</td>\n",
       "    </tr>\n",
       "    <tr>\n",
       "      <th>41100</th>\n",
       "      <th>1</th>\n",
       "      <th>0</th>\n",
       "      <th>Higher Education</th>\n",
       "      <td>108.0</td>\n",
       "      <td>21.0</td>\n",
       "      <td>27.00000</td>\n",
       "      <td>5.250000</td>\n",
       "      <td>1</td>\n",
       "      <td>-3.295837</td>\n",
       "    </tr>\n",
       "    <tr>\n",
       "      <th>52700</th>\n",
       "      <th>0</th>\n",
       "      <th>0</th>\n",
       "      <th>High School</th>\n",
       "      <td>217.0</td>\n",
       "      <td>61.0</td>\n",
       "      <td>24.11111</td>\n",
       "      <td>6.777778</td>\n",
       "      <td>1</td>\n",
       "      <td>-3.182673</td>\n",
       "    </tr>\n",
       "    <tr>\n",
       "      <th>57600</th>\n",
       "      <th>0</th>\n",
       "      <th>0</th>\n",
       "      <th>None</th>\n",
       "      <td>285.0</td>\n",
       "      <td>105.0</td>\n",
       "      <td>21.92308</td>\n",
       "      <td>8.076923</td>\n",
       "      <td>1</td>\n",
       "      <td>-3.087540</td>\n",
       "    </tr>\n",
       "  </tbody>\n",
       "</table>\n",
       "</div>"
      ],
      "text/plain": [
       "                                                                                                                            sum_of_clicks  \\\n",
       "stateProvince normTitleCategory experienceRequired estimatedSalary supervisingJob licenseRequiredJob educationRequirements                  \n",
       "AK            accounting        1.7                29900           0              1                  High School                    634.0   \n",
       "                                3.0                41000           1              0                  Higher Education               603.0   \n",
       "                                                   41100           1              0                  Higher Education               108.0   \n",
       "                                                   52700           0              0                  High School                    217.0   \n",
       "                                                   57600           0              0                  None                           285.0   \n",
       "\n",
       "                                                                                                                            sum_localclick  \\\n",
       "stateProvince normTitleCategory experienceRequired estimatedSalary supervisingJob licenseRequiredJob educationRequirements                   \n",
       "AK            accounting        1.7                29900           0              1                  High School                     227.0   \n",
       "                                3.0                41000           1              0                  Higher Education                119.0   \n",
       "                                                   41100           1              0                  Higher Education                 21.0   \n",
       "                                                   52700           0              0                  High School                      61.0   \n",
       "                                                   57600           0              0                  None                            105.0   \n",
       "\n",
       "                                                                                                                            clickspday  \\\n",
       "stateProvince normTitleCategory experienceRequired estimatedSalary supervisingJob licenseRequiredJob educationRequirements               \n",
       "AK            accounting        1.7                29900           0              1                  High School              57.63636   \n",
       "                                3.0                41000           1              0                  Higher Education         23.19231   \n",
       "                                                   41100           1              0                  Higher Education         27.00000   \n",
       "                                                   52700           0              0                  High School              24.11111   \n",
       "                                                   57600           0              0                  None                     21.92308   \n",
       "\n",
       "                                                                                                                            locclickspday  \\\n",
       "stateProvince normTitleCategory experienceRequired estimatedSalary supervisingJob licenseRequiredJob educationRequirements                  \n",
       "AK            accounting        1.7                29900           0              1                  High School                20.636360   \n",
       "                                3.0                41000           1              0                  Higher Education            4.576923   \n",
       "                                                   41100           1              0                  Higher Education            5.250000   \n",
       "                                                   52700           0              0                  High School                 6.777778   \n",
       "                                                   57600           0              0                  None                        8.076923   \n",
       "\n",
       "                                                                                                                            counts  \\\n",
       "stateProvince normTitleCategory experienceRequired estimatedSalary supervisingJob licenseRequiredJob educationRequirements           \n",
       "AK            accounting        1.7                29900           0              1                  High School                 1   \n",
       "                                3.0                41000           1              0                  Higher Education            1   \n",
       "                                                   41100           1              0                  Higher Education            1   \n",
       "                                                   52700           0              0                  High School                 1   \n",
       "                                                   57600           0              0                  None                        1   \n",
       "\n",
       "                                                                                                                               ratio  \n",
       "stateProvince normTitleCategory experienceRequired estimatedSalary supervisingJob licenseRequiredJob educationRequirements            \n",
       "AK            accounting        1.7                29900           0              1                  High School           -4.054154  \n",
       "                                3.0                41000           1              0                  Higher Education      -3.143821  \n",
       "                                                   41100           1              0                  Higher Education      -3.295837  \n",
       "                                                   52700           0              0                  High School           -3.182673  \n",
       "                                                   57600           0              0                  None                  -3.087540  "
      ]
     },
     "execution_count": 148,
     "metadata": {},
     "output_type": "execute_result"
    }
   ],
   "source": [
    "test.head()"
   ]
  },
  {
   "cell_type": "code",
   "execution_count": 206,
   "metadata": {
    "collapsed": true
   },
   "outputs": [],
   "source": [
    "from sklearn import feature_extraction"
   ]
  },
  {
   "cell_type": "code",
   "execution_count": 113,
   "metadata": {
    "collapsed": false
   },
   "outputs": [
    {
     "name": "stdout",
     "output_type": "stream",
     "text": [
      "sum_of_clicks     877.000000\n",
      "sum_localclick     33.000000\n",
      "clickspday         14.323944\n",
      "locclickspday       2.436620\n",
      "counts              2.000000\n",
      "ratio              -1.968785\n",
      "Name: (meddr, HI), dtype: float64\n",
      "sum_of_clicks     1211.000000\n",
      "sum_localclick     190.000000\n",
      "clickspday         302.750000\n",
      "locclickspday       47.500000\n",
      "counts               1.000000\n",
      "ratio               -5.712907\n",
      "Name: (engchem, MS), dtype: float64\n"
     ]
    }
   ],
   "source": [
    "print(test.ix[np.argmax(test[\"ratio\"])])\n",
    "print(test.ix[np.argmin(test[\"ratio\"])])"
   ]
  },
  {
   "cell_type": "code",
   "execution_count": 136,
   "metadata": {
    "collapsed": false
   },
   "outputs": [],
   "source": [
    "import sklearn as sk\n",
    "from sklearn import ensemble"
   ]
  },
  {
   "cell_type": "code",
   "execution_count": 138,
   "metadata": {
    "collapsed": false
   },
   "outputs": [],
   "source": [
    "rf = sk.ensemble.RandomForestClassifier()"
   ]
  },
  {
   "cell_type": "code",
   "execution_count": 13,
   "metadata": {
    "collapsed": false
   },
   "outputs": [
    {
     "data": {
      "text/html": [
       "<div>\n",
       "<table border=\"1\" class=\"dataframe\">\n",
       "  <thead>\n",
       "    <tr style=\"text-align: right;\">\n",
       "      <th></th>\n",
       "      <th>Unnamed: 0</th>\n",
       "      <th>companyId</th>\n",
       "      <th>avgOverallRating</th>\n",
       "      <th>numReviews</th>\n",
       "    </tr>\n",
       "  </thead>\n",
       "  <tbody>\n",
       "    <tr>\n",
       "      <th>0</th>\n",
       "      <td>1</td>\n",
       "      <td>company237001</td>\n",
       "      <td>3.0</td>\n",
       "      <td>77.0</td>\n",
       "    </tr>\n",
       "    <tr>\n",
       "      <th>1</th>\n",
       "      <td>2</td>\n",
       "      <td>company127713</td>\n",
       "      <td>NaN</td>\n",
       "      <td>NaN</td>\n",
       "    </tr>\n",
       "    <tr>\n",
       "      <th>2</th>\n",
       "      <td>3</td>\n",
       "      <td>company35010</td>\n",
       "      <td>3.8</td>\n",
       "      <td>98.0</td>\n",
       "    </tr>\n",
       "    <tr>\n",
       "      <th>3</th>\n",
       "      <td>4</td>\n",
       "      <td>company12085</td>\n",
       "      <td>NaN</td>\n",
       "      <td>NaN</td>\n",
       "    </tr>\n",
       "    <tr>\n",
       "      <th>4</th>\n",
       "      <td>5</td>\n",
       "      <td>company05336</td>\n",
       "      <td>NaN</td>\n",
       "      <td>NaN</td>\n",
       "    </tr>\n",
       "  </tbody>\n",
       "</table>\n",
       "</div>"
      ],
      "text/plain": [
       "   Unnamed: 0      companyId  avgOverallRating  numReviews\n",
       "0           1  company237001               3.0        77.0\n",
       "1           2  company127713               NaN         NaN\n",
       "2           3   company35010               3.8        98.0\n",
       "3           4   company12085               NaN         NaN\n",
       "4           5   company05336               NaN         NaN"
      ]
     },
     "execution_count": 13,
     "metadata": {},
     "output_type": "execute_result"
    }
   ],
   "source": [
    "compRateDf = pd.read_csv('CompanyRating2.csv')\n",
    "compRateDf.head()"
   ]
  },
  {
   "cell_type": "code",
   "execution_count": 114,
   "metadata": {
    "collapsed": false
   },
   "outputs": [],
   "source": [
    "# list(os.walk(\".\"))"
   ]
  }
 ],
 "metadata": {
  "anaconda-cloud": {},
  "kernelspec": {
   "display_name": "Python [default]",
   "language": "python",
   "name": "python3"
  },
  "language_info": {
   "codemirror_mode": {
    "name": "ipython",
    "version": 3
   },
   "file_extension": ".py",
   "mimetype": "text/x-python",
   "name": "python",
   "nbconvert_exporter": "python",
   "pygments_lexer": "ipython3",
   "version": "3.5.2"
  }
 },
 "nbformat": 4,
 "nbformat_minor": 1
}
